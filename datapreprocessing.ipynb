{
 "cells": [
  {
   "cell_type": "markdown",
   "id": "9ba31ba6-61f2-410a-acf5-b597e048c96f",
   "metadata": {},
   "source": [
    "# Loading Dataset from HuggingFace"
   ]
  },
  {
   "cell_type": "code",
   "execution_count": 1,
   "id": "b5133498",
   "metadata": {},
   "outputs": [],
   "source": [
    "import torch\n",
    "from datasets import load_dataset"
   ]
  },
  {
   "cell_type": "code",
   "execution_count": 2,
   "id": "1ada2718-57e4-4145-aeb1-9576b1d434b5",
   "metadata": {},
   "outputs": [],
   "source": [
    "dataset1=load_dataset('lmsys/lmsys-chat-1m')"
   ]
  },
  {
   "cell_type": "code",
   "execution_count": 3,
   "id": "188d9281-52e5-4fc9-8878-e934551d4d9c",
   "metadata": {},
   "outputs": [],
   "source": [
    "responses1 = dataset1[\"train\"].remove_columns([\"conversation_id\", \"model\", \"turn\", \"language\", \"openai_moderation\", \"redacted\"])"
   ]
  },
  {
   "cell_type": "code",
   "execution_count": 4,
   "id": "b27a2890-450c-4263-90a0-11cf7f66ab69",
   "metadata": {},
   "outputs": [],
   "source": [
    "dataset2=load_dataset('bitext/Bitext-customer-support-llm-chatbot-training-dataset')"
   ]
  },
  {
   "cell_type": "code",
   "execution_count": 5,
   "id": "d96686a8-2523-4cd7-8923-1265599e4101",
   "metadata": {},
   "outputs": [],
   "source": [
    "dataset2=dataset2.remove_columns(['flags','category','intent'])"
   ]
  },
  {
   "cell_type": "code",
   "execution_count": 6,
   "id": "03022348-ab28-42c0-a4da-0091448aabdb",
   "metadata": {},
   "outputs": [],
   "source": [
    "response2=dataset2['train']"
   ]
  },
  {
   "cell_type": "markdown",
   "id": "e094ad82-7523-4d57-9438-146caef6343b",
   "metadata": {},
   "source": [
    "# Data Preprocessing"
   ]
  },
  {
   "cell_type": "code",
   "execution_count": 7,
   "id": "a67945ff-b504-48f5-821c-b578f45d6eca",
   "metadata": {},
   "outputs": [],
   "source": [
    "import re\n",
    "\n",
    "def find_duplicates(paragraphs):\n",
    "    unique_x = set()\n",
    "    duplicate_chars = 0\n",
    "    duplicate_elements = 0\n",
    "    for element in paragraphs:\n",
    "        if element in unique_x:\n",
    "            duplicate_chars += len(element)\n",
    "            duplicate_elements += 1\n",
    "        else:\n",
    "            unique_x.add(element)\n",
    "    return duplicate_elements, duplicate_chars"
   ]
  },
  {
   "cell_type": "code",
   "execution_count": 8,
   "id": "e9679580-3277-4a98-8e6b-ae6bb66309cb",
   "metadata": {},
   "outputs": [],
   "source": [
    "def paragraph_repetition_filter(text):\n",
    "    paragraphs = re.compile(r'\\n{2,}').split(text.strip())\n",
    "    paragraphs_duplicates, char_duplicates = find_duplicates(paragraphs)\n",
    "    if paragraphs_duplicates / len(paragraphs) > 0.2:\n",
    "        return False\n",
    "    if char_duplicates / len(text) > 0.2:\n",
    "        return False\n",
    "    return True"
   ]
  },
  {
   "cell_type": "code",
   "execution_count": 9,
   "id": "76f95f2c-fa97-482e-8bbd-776a69336dea",
   "metadata": {},
   "outputs": [],
   "source": [
    "def clean_text(text):\n",
    "    return re.sub(r'\\s+', ' ', text).strip()"
   ]
  },
  {
   "cell_type": "code",
   "execution_count": 10,
   "id": "4d3ec4d5-2bfa-4aaa-8927-c69a1a2c4bf9",
   "metadata": {},
   "outputs": [],
   "source": [
    "def preprocess_function(examples):\n",
    "    preprocessed_texts = []\n",
    "    for conversation in examples['conversation']:\n",
    "        combined_text=\"\"\n",
    "        role=''\n",
    "        for turn in conversation:\n",
    "            if turn['role']=='user':\n",
    "                role='Human'\n",
    "            else:\n",
    "                role='Assistant'\n",
    "            content = turn['content']\n",
    "            combined_text+=f'### {role}: {content}\\n'\n",
    "        \n",
    "        if paragraph_repetition_filter(combined_text):\n",
    "            cleaned_text = clean_text(combined_text)\n",
    "            preprocessed_texts.append(cleaned_text)\n",
    "        else:\n",
    "            preprocessed_texts.append(\"\")  # Add an empty string for skipped entries\n",
    "        \n",
    "    return {\"text\": preprocessed_texts}"
   ]
  },
  {
   "cell_type": "code",
   "execution_count": 11,
   "id": "83a405e6-f058-40fb-acf3-48dc1a8f4c96",
   "metadata": {},
   "outputs": [],
   "source": [
    "def preprocess_function1(examples):\n",
    "    preprocessed_texts = []\n",
    "    \n",
    "\n",
    "    clean_instruction = clean_text(examples['instruction'])\n",
    "    clean_response = clean_text(examples['response'])\n",
    "        \n",
    "    # Combine instruction and response\n",
    "    combined_text = f\"### Human: {clean_instruction}\\n\\n### Assistant: {clean_response}\"\n",
    "\n",
    "    if paragraph_repetition_filter(combined_text):\n",
    "        cleaned_text = clean_text(combined_text)\n",
    "        preprocessed_texts.append(cleaned_text)\n",
    "    else:\n",
    "        preprocessed_texts.append(\"\")\n",
    "    \n",
    "    return {\"text\": preprocessed_texts}"
   ]
  },
  {
   "cell_type": "code",
   "execution_count": 12,
   "id": "f327e51a-4d38-4d61-9acb-52981f5599c5",
   "metadata": {},
   "outputs": [],
   "source": [
    "preprocessed_dataset = responses1.map(preprocess_function, batched=True)"
   ]
  },
  {
   "cell_type": "code",
   "execution_count": 13,
   "id": "1f4b248d-2ed7-451c-af0a-16a40cfcdf2a",
   "metadata": {},
   "outputs": [],
   "source": [
    "preprocessed_dataset2=response2.map(preprocess_function1,batch_size=True)"
   ]
  },
  {
   "cell_type": "code",
   "execution_count": 14,
   "id": "6269747d-0b0c-4223-9d9b-65a7e0130680",
   "metadata": {},
   "outputs": [],
   "source": [
    "preprocessed_dataset=preprocessed_dataset.remove_columns(['conversation'])"
   ]
  },
  {
   "cell_type": "code",
   "execution_count": 15,
   "id": "d5753369-1051-4be5-ae6f-6190fa19e56e",
   "metadata": {},
   "outputs": [],
   "source": [
    "preprocessed_dataset2=preprocessed_dataset2.remove_columns(['instruction','response'])"
   ]
  },
  {
   "cell_type": "code",
   "execution_count": 16,
   "id": "bf9c4d4c-f596-488c-9846-239208b12d73",
   "metadata": {},
   "outputs": [],
   "source": [
    "preprocessed_dataset = preprocessed_dataset.filter(lambda example: bool(example['text']))"
   ]
  },
  {
   "cell_type": "code",
   "execution_count": 17,
   "id": "e0f97cbe-9bef-4965-8857-1f801f490c77",
   "metadata": {},
   "outputs": [],
   "source": [
    "preprocessed_dataset2 = preprocessed_dataset2.filter(lambda example: bool(example['text']))"
   ]
  },
  {
   "cell_type": "code",
   "execution_count": 18,
   "id": "48a90fcd-dc2d-4eee-a968-67ead57df9b6",
   "metadata": {},
   "outputs": [
    {
     "name": "stdout",
     "output_type": "stream",
     "text": [
      "Number of examples after preprocessing and filtering: 976932\n"
     ]
    }
   ],
   "source": [
    "print(f\"Number of examples after preprocessing and filtering: {len(preprocessed_dataset)}\")"
   ]
  },
  {
   "cell_type": "code",
   "execution_count": 19,
   "id": "22d9d918-6c12-48c3-8f54-b8a68c1e25f8",
   "metadata": {},
   "outputs": [
    {
     "name": "stdout",
     "output_type": "stream",
     "text": [
      "Number of examples after preprocessing and filtering: 26872\n"
     ]
    }
   ],
   "source": [
    "print(f\"Number of examples after preprocessing and filtering: {len(preprocessed_dataset2)}\")"
   ]
  },
  {
   "cell_type": "code",
   "execution_count": 20,
   "id": "8a45c8bd-2330-41fa-aa76-fc0f4fe20ff9",
   "metadata": {},
   "outputs": [],
   "source": [
    "import urllib\n",
    "from fasttext import load_model\n",
    "from fasttext.FastText import _FastText\n",
    "import os\n",
    "\n",
    "def english_language_filter(ds):\n",
    "    #load language detection model\n",
    "\n",
    "    current_dir = os.getcwd()\n",
    "    model_path = os.path.join(current_dir, \"lid.176.bin\")\n",
    "    \n",
    "\n",
    "    model = load_model(model_path)\n",
    "\n",
    "    def is_english(x):\n",
    "        #Predict language of the text and probability\n",
    "        language,score=model.predict(x['text'].replace('\\n',''))\n",
    "\n",
    "        language=language[0].split(\"__\")[2]\n",
    "\n",
    "        return score>0.4 and language=='en'\n",
    "\n",
    "    ds=ds.filter(is_english,load_from_cache_file=False,num_proc=1)\n",
    "\n",
    "    return ds"
   ]
  },
  {
   "cell_type": "code",
   "execution_count": 21,
   "id": "8b083755-37e9-4454-a0e1-dd9f4213dee5",
   "metadata": {},
   "outputs": [
    {
     "name": "stderr",
     "output_type": "stream",
     "text": [
      "Parameter 'function'=<function english_language_filter.<locals>.is_english at 0x734156db7e20> of the transform datasets.arrow_dataset.Dataset.filter@2.0.1 couldn't be hashed properly, a random hash was used instead. Make sure your transforms and parameters are serializable with pickle or dill for the dataset fingerprinting and caching to work. If you reuse this transform, the caching mechanism will consider it to be different from the previous calls and recompute everything. This warning is only showed once. Subsequent hashing failures won't be showed.\n"
     ]
    },
    {
     "data": {
      "application/vnd.jupyter.widget-view+json": {
       "model_id": "a7b56faec15944e69329a8fae216afcb",
       "version_major": 2,
       "version_minor": 0
      },
      "text/plain": [
       "Filter:   0%|          | 0/976932 [00:00<?, ? examples/s]"
      ]
     },
     "metadata": {},
     "output_type": "display_data"
    }
   ],
   "source": [
    "preprocessed_dataset=english_language_filter(preprocessed_dataset)"
   ]
  },
  {
   "cell_type": "code",
   "execution_count": 22,
   "id": "f1274aac-aaff-413a-b95c-b5004b61b180",
   "metadata": {},
   "outputs": [],
   "source": [
    "def transform_dataset(example):\n",
    "    # Join the list of strings if it's a list\n",
    "    if isinstance(example['text'], list):\n",
    "        joined_string = ' '.join(example['text'])\n",
    "    else:\n",
    "        joined_string = example['text']\n",
    "    \n",
    "    # Remove newline characters\n",
    "    cleaned_string = joined_string.replace('\\n', ' ')\n",
    "    \n",
    "    # Return a dictionary with the transformed text\n",
    "    return {'text': cleaned_string}"
   ]
  },
  {
   "cell_type": "code",
   "execution_count": 23,
   "id": "a507f793-58fb-4167-a8e1-27d619b73f25",
   "metadata": {},
   "outputs": [],
   "source": [
    "preprocessed_dataset2=preprocessed_dataset2.map(transform_dataset)"
   ]
  },
  {
   "cell_type": "code",
   "execution_count": 24,
   "id": "0e49f5cd-fe48-4ef3-9b6e-0705d64d5c0c",
   "metadata": {},
   "outputs": [
    {
     "data": {
      "application/vnd.jupyter.widget-view+json": {
       "model_id": "011dae6ca788430c9f24ea7d9581027c",
       "version_major": 2,
       "version_minor": 0
      },
      "text/plain": [
       "Filter:   0%|          | 0/26872 [00:00<?, ? examples/s]"
      ]
     },
     "metadata": {},
     "output_type": "display_data"
    }
   ],
   "source": [
    "preprocessed_dataset2=english_language_filter(preprocessed_dataset2)"
   ]
  },
  {
   "cell_type": "code",
   "execution_count": 25,
   "id": "84842767-8097-4230-a7dc-8a42807599f5",
   "metadata": {},
   "outputs": [
    {
     "name": "stdout",
     "output_type": "stream",
     "text": [
      "Number of examples after removing other language conversation: 784328\n"
     ]
    }
   ],
   "source": [
    "print(f\"Number of examples after removing other language conversation: {len(preprocessed_dataset)}\")"
   ]
  },
  {
   "cell_type": "code",
   "execution_count": 26,
   "id": "24f4e8d8-5e2c-4d2b-bbea-4750d4857cf5",
   "metadata": {},
   "outputs": [
    {
     "name": "stdout",
     "output_type": "stream",
     "text": [
      "Number of examples after removing other language conversation: 26872\n"
     ]
    }
   ],
   "source": [
    "print(f\"Number of examples after removing other language conversation: {len(preprocessed_dataset2)}\")"
   ]
  },
  {
   "cell_type": "code",
   "execution_count": 27,
   "id": "667dc359-fb76-40a6-aa40-1f8cd3641fcf",
   "metadata": {},
   "outputs": [],
   "source": [
    "preprocessed_dataset=preprocessed_dataset.shuffle(seed=10)"
   ]
  },
  {
   "cell_type": "code",
   "execution_count": 28,
   "id": "aa57dd03-f601-4fe4-b2c7-66e4c6223429",
   "metadata": {},
   "outputs": [],
   "source": [
    "import numpy as np\n",
    "\n",
    "def select_random_subset(dataset, num_samples):\n",
    "    # Get the total number of rows in the dataset\n",
    "    total_rows = len(dataset)\n",
    "    \n",
    "    # Generate random indices\n",
    "    random_indices = np.random.choice(total_rows, num_samples, replace=False)\n",
    "    \n",
    "    # Select the random subset\n",
    "    subset = dataset.select(random_indices)\n",
    "    \n",
    "    return subset"
   ]
  },
  {
   "cell_type": "code",
   "execution_count": 29,
   "id": "f5373406-fec2-4977-abd4-00734e8de8af",
   "metadata": {},
   "outputs": [],
   "source": [
    "preprocessed_dataset=select_random_subset(preprocessed_dataset,52000)"
   ]
  },
  {
   "cell_type": "code",
   "execution_count": 30,
   "id": "f06c7f94-12a3-45c0-9ea6-367cc9ecb534",
   "metadata": {},
   "outputs": [
    {
     "data": {
      "text/plain": [
       "(Dataset({\n",
       "     features: ['text'],\n",
       "     num_rows: 52000\n",
       " }),\n",
       " Dataset({\n",
       "     features: ['text'],\n",
       "     num_rows: 26872\n",
       " }))"
      ]
     },
     "execution_count": 30,
     "metadata": {},
     "output_type": "execute_result"
    }
   ],
   "source": [
    "preprocessed_dataset,preprocessed_dataset2"
   ]
  },
  {
   "cell_type": "code",
   "execution_count": 31,
   "id": "56acf502-7079-4840-8ef4-e6d8ac4fa457",
   "metadata": {},
   "outputs": [],
   "source": [
    "from datasets import concatenate_datasets\n",
    "\n",
    "# Assuming your datasets are named preprocessed_dataset and preprocessed_dataset2\n",
    "preprocessed_dataset = concatenate_datasets([preprocessed_dataset, preprocessed_dataset2])"
   ]
  },
  {
   "cell_type": "code",
   "execution_count": 32,
   "id": "470064dc-3aef-468f-9ad0-d93e8831db1d",
   "metadata": {},
   "outputs": [],
   "source": [
    "preprocessed_dataset=preprocessed_dataset.shuffle(seed=42)"
   ]
  },
  {
   "cell_type": "code",
   "execution_count": null,
   "id": "02936c82-576f-4d67-b1ef-d8746948de0d",
   "metadata": {},
   "outputs": [],
   "source": []
  },
  {
   "cell_type": "markdown",
   "id": "f359c64f-e47e-4191-ac13-49373ca699a0",
   "metadata": {},
   "source": [
    "# Chat Prompt Template for llama 2"
   ]
  },
  {
   "cell_type": "code",
   "execution_count": 33,
   "id": "4ff96896-1b50-47ac-9963-1d4596499823",
   "metadata": {},
   "outputs": [],
   "source": [
    "#In Case of Llama 2, the following prompt template is used for the chat models\n",
    "#<S>[INST]<<SYS>>System Prompt<</SYS>>User Prompt[/INST]Model Answer</S>"
   ]
  },
  {
   "cell_type": "code",
   "execution_count": 34,
   "id": "46efbf62-ca30-4794-b0c0-22c3bdd1b0aa",
   "metadata": {},
   "outputs": [],
   "source": [
    "#Define a function to transform the data\n",
    "def transform_conversation(example):\n",
    "  conversation_text=example['text']\n",
    "  segments=conversation_text.split('###')\n",
    "\n",
    "  reformatted_segments=[]\n",
    "\n",
    "  #iterate over pair of segments\n",
    "  for i in range(1,len(segments)-1,2):\n",
    "    human_text=segments[i].strip().replace('Human:','').strip()\n",
    "\n",
    "    #check if there is a corresponding assistance segemnt before processing\n",
    "\n",
    "    if i+1<len(segments):\n",
    "      assistance_text=segments[i+1].strip().replace('Assistant:','').strip()\n",
    "\n",
    "      #Apply the new template\n",
    "      reformatted_segments.append(f'<s>[INT] {human_text} [/INT] {assistance_text} </s>')\n",
    "    else:\n",
    "      #Handle the case where there is a no corresponding assistant segment\n",
    "      reformatted_segments.append(f'<s>[INT] {human_text} [/INT] </s>')\n",
    "\n",
    "  return {'text':''.join(reformatted_segments)}\n"
   ]
  },
  {
   "cell_type": "code",
   "execution_count": 35,
   "id": "76d3c5e6-f5bc-4890-8fdb-9f664c2ef9f7",
   "metadata": {},
   "outputs": [
    {
     "data": {
      "application/vnd.jupyter.widget-view+json": {
       "model_id": "ab03c49de5124accb1f7a7614b568f1f",
       "version_major": 2,
       "version_minor": 0
      },
      "text/plain": [
       "Map:   0%|          | 0/78872 [00:00<?, ? examples/s]"
      ]
     },
     "metadata": {},
     "output_type": "display_data"
    }
   ],
   "source": [
    "transformed_dataset=preprocessed_dataset.map(transform_conversation)"
   ]
  },
  {
   "cell_type": "code",
   "execution_count": 37,
   "id": "12e68d33-dcbf-4ae8-9d2a-1266b28b00f7",
   "metadata": {},
   "outputs": [
    {
     "data": {
      "application/vnd.jupyter.widget-view+json": {
       "model_id": "51d13a8541ee45caa361ffaf803d0e4a",
       "version_major": 2,
       "version_minor": 0
      },
      "text/plain": [
       "Saving the dataset (0/1 shards):   0%|          | 0/78872 [00:00<?, ? examples/s]"
      ]
     },
     "metadata": {},
     "output_type": "display_data"
    }
   ],
   "source": [
    "transformed_dataset.save_to_disk('./')"
   ]
  }
 ],
 "metadata": {
  "kernelspec": {
   "display_name": "Python 3 (ipykernel)",
   "language": "python",
   "name": "python3"
  },
  "language_info": {
   "codemirror_mode": {
    "name": "ipython",
    "version": 3
   },
   "file_extension": ".py",
   "mimetype": "text/x-python",
   "name": "python",
   "nbconvert_exporter": "python",
   "pygments_lexer": "ipython3",
   "version": "3.11.9"
  },
  "widgets": {
   "application/vnd.jupyter.widget-state+json": {
    "state": {
     "011dae6ca788430c9f24ea7d9581027c": {
      "model_module": "@jupyter-widgets/controls",
      "model_module_version": "2.0.0",
      "model_name": "HBoxModel",
      "state": {
       "children": [
        "IPY_MODEL_06d8700ce2d34580a6eea7bd652a0487",
        "IPY_MODEL_95836874dc22467dacbaafcb3ec20a12",
        "IPY_MODEL_8952411d794e425caf5a4fb5e6337c80"
       ],
       "layout": "IPY_MODEL_af4e401684ec44e3a19e0b679efa285a"
      }
     },
     "06d8700ce2d34580a6eea7bd652a0487": {
      "model_module": "@jupyter-widgets/controls",
      "model_module_version": "2.0.0",
      "model_name": "HTMLModel",
      "state": {
       "layout": "IPY_MODEL_20234eec8e5c452a96c9ed1c5e2c4f1e",
       "style": "IPY_MODEL_e2af400ccaf24ce19bdb56a4ce9e5d68",
       "value": "Filter: 100%"
      }
     },
     "07ef206d4bfa415080a39106ef680224": {
      "model_module": "@jupyter-widgets/controls",
      "model_module_version": "2.0.0",
      "model_name": "HTMLModel",
      "state": {
       "layout": "IPY_MODEL_31df9550c8554789ab647fd7d08d6676",
       "style": "IPY_MODEL_f4dfbe0c429b47c184f2b9bc98fa0760",
       "value": " 976932/976932 [02:07&lt;00:00, 8469.15 examples/s]"
      }
     },
     "142627fd24b94ee289883e0ca3806a5b": {
      "model_module": "@jupyter-widgets/controls",
      "model_module_version": "2.0.0",
      "model_name": "HTMLStyleModel",
      "state": {
       "description_width": "",
       "font_size": null,
       "text_color": null
      }
     },
     "160973b48f724c90979d359edec0bb63": {
      "model_module": "@jupyter-widgets/controls",
      "model_module_version": "2.0.0",
      "model_name": "HTMLStyleModel",
      "state": {
       "description_width": "",
       "font_size": null,
       "text_color": null
      }
     },
     "165b433019564632a9c832a5fb8f9019": {
      "model_module": "@jupyter-widgets/controls",
      "model_module_version": "2.0.0",
      "model_name": "HTMLModel",
      "state": {
       "layout": "IPY_MODEL_2336b371392144458494b97b4e93d8ad",
       "style": "IPY_MODEL_142627fd24b94ee289883e0ca3806a5b",
       "value": " 78872/78872 [00:14&lt;00:00, 5593.70 examples/s]"
      }
     },
     "19d37bebdedd45e1856ad58f1b430e8b": {
      "model_module": "@jupyter-widgets/controls",
      "model_module_version": "2.0.0",
      "model_name": "HTMLStyleModel",
      "state": {
       "description_width": "",
       "font_size": null,
       "text_color": null
      }
     },
     "1d9aec8fe7b94fa7ace16c2f947be449": {
      "model_module": "@jupyter-widgets/controls",
      "model_module_version": "2.0.0",
      "model_name": "ProgressStyleModel",
      "state": {
       "description_width": ""
      }
     },
     "20234eec8e5c452a96c9ed1c5e2c4f1e": {
      "model_module": "@jupyter-widgets/base",
      "model_module_version": "2.0.0",
      "model_name": "LayoutModel",
      "state": {}
     },
     "2336b371392144458494b97b4e93d8ad": {
      "model_module": "@jupyter-widgets/base",
      "model_module_version": "2.0.0",
      "model_name": "LayoutModel",
      "state": {}
     },
     "27013e9f015b4931b1811d828687eeb8": {
      "model_module": "@jupyter-widgets/base",
      "model_module_version": "2.0.0",
      "model_name": "LayoutModel",
      "state": {}
     },
     "2f23779ee142421d84fad302bb2ef97a": {
      "model_module": "@jupyter-widgets/base",
      "model_module_version": "2.0.0",
      "model_name": "LayoutModel",
      "state": {}
     },
     "31df9550c8554789ab647fd7d08d6676": {
      "model_module": "@jupyter-widgets/base",
      "model_module_version": "2.0.0",
      "model_name": "LayoutModel",
      "state": {}
     },
     "38dc4dd2645645069b538b2515879ba8": {
      "model_module": "@jupyter-widgets/controls",
      "model_module_version": "2.0.0",
      "model_name": "HTMLModel",
      "state": {
       "layout": "IPY_MODEL_94d9fef78df4425ebdfb83af1dc11a0c",
       "style": "IPY_MODEL_160973b48f724c90979d359edec0bb63",
       "value": "Saving the dataset (1/1 shards): 100%"
      }
     },
     "3962a6a560774cf4a6cfcdf1f0855135": {
      "model_module": "@jupyter-widgets/base",
      "model_module_version": "2.0.0",
      "model_name": "LayoutModel",
      "state": {}
     },
     "463265988e5643fb88b9d8c85420bcf4": {
      "model_module": "@jupyter-widgets/controls",
      "model_module_version": "2.0.0",
      "model_name": "HTMLStyleModel",
      "state": {
       "description_width": "",
       "font_size": null,
       "text_color": null
      }
     },
     "4fd1da6258604f04b3b3786067f5100f": {
      "model_module": "@jupyter-widgets/controls",
      "model_module_version": "2.0.0",
      "model_name": "HTMLModel",
      "state": {
       "layout": "IPY_MODEL_27013e9f015b4931b1811d828687eeb8",
       "style": "IPY_MODEL_463265988e5643fb88b9d8c85420bcf4",
       "value": "Map: 100%"
      }
     },
     "51814f26f7db4e2bb89de7cd6d065417": {
      "model_module": "@jupyter-widgets/controls",
      "model_module_version": "2.0.0",
      "model_name": "HTMLModel",
      "state": {
       "layout": "IPY_MODEL_9f6b109ac1614bf6a462384c3386b7b2",
       "style": "IPY_MODEL_d1c9dfc0e5ec41a4be1ed82538799135",
       "value": " 78872/78872 [00:00&lt;00:00, 380454.14 examples/s]"
      }
     },
     "51c6d339decb457fa25dca847f6fb4dc": {
      "model_module": "@jupyter-widgets/base",
      "model_module_version": "2.0.0",
      "model_name": "LayoutModel",
      "state": {}
     },
     "51d13a8541ee45caa361ffaf803d0e4a": {
      "model_module": "@jupyter-widgets/controls",
      "model_module_version": "2.0.0",
      "model_name": "HBoxModel",
      "state": {
       "children": [
        "IPY_MODEL_38dc4dd2645645069b538b2515879ba8",
        "IPY_MODEL_d880d5beb85c444c93ec919f90f4a21a",
        "IPY_MODEL_51814f26f7db4e2bb89de7cd6d065417"
       ],
       "layout": "IPY_MODEL_3962a6a560774cf4a6cfcdf1f0855135"
      }
     },
     "599827c6259344dda90914cfc5d8a674": {
      "model_module": "@jupyter-widgets/controls",
      "model_module_version": "2.0.0",
      "model_name": "HTMLStyleModel",
      "state": {
       "description_width": "",
       "font_size": null,
       "text_color": null
      }
     },
     "6c624e29a28740f8bfd04f0b3296dd83": {
      "model_module": "@jupyter-widgets/base",
      "model_module_version": "2.0.0",
      "model_name": "LayoutModel",
      "state": {}
     },
     "72b3289477b64790bd7e19d5ef8a8d49": {
      "model_module": "@jupyter-widgets/base",
      "model_module_version": "2.0.0",
      "model_name": "LayoutModel",
      "state": {}
     },
     "8084d3d51d944d92b9f52f521fcfa263": {
      "model_module": "@jupyter-widgets/base",
      "model_module_version": "2.0.0",
      "model_name": "LayoutModel",
      "state": {}
     },
     "862fc60cce524ce2bcc5397c1ffef44d": {
      "model_module": "@jupyter-widgets/controls",
      "model_module_version": "2.0.0",
      "model_name": "ProgressStyleModel",
      "state": {
       "description_width": ""
      }
     },
     "8952411d794e425caf5a4fb5e6337c80": {
      "model_module": "@jupyter-widgets/controls",
      "model_module_version": "2.0.0",
      "model_name": "HTMLModel",
      "state": {
       "layout": "IPY_MODEL_d5600bd1c52949048f94f61947b1a8bd",
       "style": "IPY_MODEL_599827c6259344dda90914cfc5d8a674",
       "value": " 26872/26872 [00:01&lt;00:00, 25469.21 examples/s]"
      }
     },
     "94d9fef78df4425ebdfb83af1dc11a0c": {
      "model_module": "@jupyter-widgets/base",
      "model_module_version": "2.0.0",
      "model_name": "LayoutModel",
      "state": {}
     },
     "95836874dc22467dacbaafcb3ec20a12": {
      "model_module": "@jupyter-widgets/controls",
      "model_module_version": "2.0.0",
      "model_name": "FloatProgressModel",
      "state": {
       "bar_style": "success",
       "layout": "IPY_MODEL_51c6d339decb457fa25dca847f6fb4dc",
       "max": 26872,
       "style": "IPY_MODEL_1d9aec8fe7b94fa7ace16c2f947be449",
       "value": 26872
      }
     },
     "9f6b109ac1614bf6a462384c3386b7b2": {
      "model_module": "@jupyter-widgets/base",
      "model_module_version": "2.0.0",
      "model_name": "LayoutModel",
      "state": {}
     },
     "9fae8bdb1dd2435ea9b7baccd7f45789": {
      "model_module": "@jupyter-widgets/controls",
      "model_module_version": "2.0.0",
      "model_name": "ProgressStyleModel",
      "state": {
       "description_width": ""
      }
     },
     "a7b56faec15944e69329a8fae216afcb": {
      "model_module": "@jupyter-widgets/controls",
      "model_module_version": "2.0.0",
      "model_name": "HBoxModel",
      "state": {
       "children": [
        "IPY_MODEL_c4747045d4b64400a6853f43751b7269",
        "IPY_MODEL_fe3a3775dbef4a67a6e10cbc115f9e82",
        "IPY_MODEL_07ef206d4bfa415080a39106ef680224"
       ],
       "layout": "IPY_MODEL_6c624e29a28740f8bfd04f0b3296dd83"
      }
     },
     "ab03c49de5124accb1f7a7614b568f1f": {
      "model_module": "@jupyter-widgets/controls",
      "model_module_version": "2.0.0",
      "model_name": "HBoxModel",
      "state": {
       "children": [
        "IPY_MODEL_4fd1da6258604f04b3b3786067f5100f",
        "IPY_MODEL_ac33c8d2823f4095ab248f0995ca67e3",
        "IPY_MODEL_165b433019564632a9c832a5fb8f9019"
       ],
       "layout": "IPY_MODEL_8084d3d51d944d92b9f52f521fcfa263"
      }
     },
     "ac33c8d2823f4095ab248f0995ca67e3": {
      "model_module": "@jupyter-widgets/controls",
      "model_module_version": "2.0.0",
      "model_name": "FloatProgressModel",
      "state": {
       "bar_style": "success",
       "layout": "IPY_MODEL_d928fb065ef04659a83835455c6a3b94",
       "max": 78872,
       "style": "IPY_MODEL_862fc60cce524ce2bcc5397c1ffef44d",
       "value": 78872
      }
     },
     "af4e401684ec44e3a19e0b679efa285a": {
      "model_module": "@jupyter-widgets/base",
      "model_module_version": "2.0.0",
      "model_name": "LayoutModel",
      "state": {}
     },
     "be3f5f608c8f4a26b0a4ece066b3ae72": {
      "model_module": "@jupyter-widgets/base",
      "model_module_version": "2.0.0",
      "model_name": "LayoutModel",
      "state": {}
     },
     "bff79a61796448eb98f11c445dac39c1": {
      "model_module": "@jupyter-widgets/controls",
      "model_module_version": "2.0.0",
      "model_name": "ProgressStyleModel",
      "state": {
       "description_width": ""
      }
     },
     "c4747045d4b64400a6853f43751b7269": {
      "model_module": "@jupyter-widgets/controls",
      "model_module_version": "2.0.0",
      "model_name": "HTMLModel",
      "state": {
       "layout": "IPY_MODEL_2f23779ee142421d84fad302bb2ef97a",
       "style": "IPY_MODEL_19d37bebdedd45e1856ad58f1b430e8b",
       "value": "Filter: 100%"
      }
     },
     "d1c9dfc0e5ec41a4be1ed82538799135": {
      "model_module": "@jupyter-widgets/controls",
      "model_module_version": "2.0.0",
      "model_name": "HTMLStyleModel",
      "state": {
       "description_width": "",
       "font_size": null,
       "text_color": null
      }
     },
     "d5600bd1c52949048f94f61947b1a8bd": {
      "model_module": "@jupyter-widgets/base",
      "model_module_version": "2.0.0",
      "model_name": "LayoutModel",
      "state": {}
     },
     "d880d5beb85c444c93ec919f90f4a21a": {
      "model_module": "@jupyter-widgets/controls",
      "model_module_version": "2.0.0",
      "model_name": "FloatProgressModel",
      "state": {
       "bar_style": "success",
       "layout": "IPY_MODEL_72b3289477b64790bd7e19d5ef8a8d49",
       "max": 78872,
       "style": "IPY_MODEL_9fae8bdb1dd2435ea9b7baccd7f45789",
       "value": 78872
      }
     },
     "d928fb065ef04659a83835455c6a3b94": {
      "model_module": "@jupyter-widgets/base",
      "model_module_version": "2.0.0",
      "model_name": "LayoutModel",
      "state": {}
     },
     "e2af400ccaf24ce19bdb56a4ce9e5d68": {
      "model_module": "@jupyter-widgets/controls",
      "model_module_version": "2.0.0",
      "model_name": "HTMLStyleModel",
      "state": {
       "description_width": "",
       "font_size": null,
       "text_color": null
      }
     },
     "f4dfbe0c429b47c184f2b9bc98fa0760": {
      "model_module": "@jupyter-widgets/controls",
      "model_module_version": "2.0.0",
      "model_name": "HTMLStyleModel",
      "state": {
       "description_width": "",
       "font_size": null,
       "text_color": null
      }
     },
     "fe3a3775dbef4a67a6e10cbc115f9e82": {
      "model_module": "@jupyter-widgets/controls",
      "model_module_version": "2.0.0",
      "model_name": "FloatProgressModel",
      "state": {
       "bar_style": "success",
       "layout": "IPY_MODEL_be3f5f608c8f4a26b0a4ece066b3ae72",
       "max": 976932,
       "style": "IPY_MODEL_bff79a61796448eb98f11c445dac39c1",
       "value": 976932
      }
     }
    },
    "version_major": 2,
    "version_minor": 0
   }
  }
 },
 "nbformat": 4,
 "nbformat_minor": 5
}
